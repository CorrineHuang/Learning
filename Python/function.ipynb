{
 "cells": [
  {
   "cell_type": "markdown",
   "metadata": {},
   "source": [
    "## 函数"
   ]
  },
  {
   "cell_type": "code",
   "execution_count": null,
   "metadata": {},
   "outputs": [],
   "source": [
    "def check():\n"
   ]
  },
  {
   "cell_type": "markdown",
   "metadata": {},
   "source": [
    "None的应用场景：\n",
    "- 用在函数无返回值上\n",
    "- 在if语句中，None等于False\n",
    "- 定于声明无意义，无初始值的变量"
   ]
  },
  {
   "cell_type": "code",
   "execution_count": 1,
   "metadata": {},
   "outputs": [],
   "source": [
    "def check_age(age):\n",
    "    if age>18:\n",
    "        return 'success'\n",
    "    else:\n",
    "        return None"
   ]
  },
  {
   "cell_type": "code",
   "execution_count": 2,
   "metadata": {},
   "outputs": [
    {
     "name": "stdout",
     "output_type": "stream",
     "text": [
      "None\n"
     ]
    }
   ],
   "source": [
    "print(check_age(17))"
   ]
  },
  {
   "cell_type": "markdown",
   "metadata": {},
   "source": [
    "## 函数的说明文档\n",
    "通过多行注释，对函数进行说明解释"
   ]
  },
  {
   "cell_type": "code",
   "execution_count": null,
   "metadata": {},
   "outputs": [],
   "source": [
    "def func(x,y):\n",
    "    \"\"\"\n",
    "    函数说明\n",
    "    ：param x:形参x的说明\n",
    "    ：param y:形参y的说明\n",
    "    : return:返回结果的说明\n",
    "    \"\"\"\n",
    "    #函数体\n",
    "    pass "
   ]
  },
  {
   "cell_type": "code",
   "execution_count": 5,
   "metadata": {},
   "outputs": [],
   "source": [
    "#鼠标在参数括号内悬停，会看到我们为函数写的说明文档\n",
    "func(5,6)"
   ]
  },
  {
   "cell_type": "markdown",
   "metadata": {},
   "source": [
    "## 函数的嵌套调用\n",
    "在一个函数里面调用了另一个函数"
   ]
  },
  {
   "cell_type": "markdown",
   "metadata": {},
   "source": [
    "## 局部变量和全局变量\n",
    "- 局部变量：在函数体内部的变量，只在函数体内部生效\n",
    "- 全局变量：在函数体外部的变量，在全局生效"
   ]
  },
  {
   "cell_type": "markdown",
   "metadata": {},
   "source": [
    "# 数据容器\n",
    "列表，元组，字符串，集合，字典"
   ]
  },
  {
   "cell_type": "markdown",
   "metadata": {},
   "source": [
    "## 字符串\n",
    "列表，元组，字符串都是有序列表，可以通过切片取。\n",
    "- 支持重复元素且有序。因此去重的场景，更适合应用集合。"
   ]
  },
  {
   "cell_type": "code",
   "execution_count": 6,
   "metadata": {},
   "outputs": [],
   "source": [
    "s='youchoosearightcourse'"
   ]
  },
  {
   "cell_type": "code",
   "execution_count": 10,
   "metadata": {},
   "outputs": [
    {
     "name": "stdout",
     "output_type": "stream",
     "text": [
      "esruocthgiraesoohcuoy\n",
      "ohcu\n"
     ]
    }
   ],
   "source": [
    "print(s[::-1])\n",
    "print(s[5:1:-1])"
   ]
  },
  {
   "cell_type": "code",
   "execution_count": 11,
   "metadata": {},
   "outputs": [
    {
     "name": "stdout",
     "output_type": "stream",
     "text": [
      "['you', 'choose', 'a', 'right', 'course']\n"
     ]
    }
   ],
   "source": [
    "s='you choose a right course'\n",
    "print(s.split())"
   ]
  },
  {
   "cell_type": "markdown",
   "metadata": {},
   "source": [
    "## set 集合\n",
    "- 不允许重复，且顺序无法保证，所以不支持下标索引访问。"
   ]
  },
  {
   "cell_type": "code",
   "execution_count": 14,
   "metadata": {},
   "outputs": [
    {
     "name": "stdout",
     "output_type": "stream",
     "text": [
      "{'B', 'A', 'C'}\n"
     ]
    }
   ],
   "source": [
    "aset={\"A\",\"B\",'C',\"A\",\"B\",'C',\"A\",\"B\",'C'}\n",
    "print(aset)"
   ]
  },
  {
   "cell_type": "code",
   "execution_count": 15,
   "metadata": {},
   "outputs": [],
   "source": [
    "myset_empty=set() # 空集合"
   ]
  },
  {
   "cell_type": "code",
   "execution_count": 17,
   "metadata": {},
   "outputs": [
    {
     "name": "stdout",
     "output_type": "stream",
     "text": [
      "{'D', 'B', 'A', 'C'}\n"
     ]
    }
   ],
   "source": [
    "# add 操作\n",
    "aset.add('D')\n",
    "print(aset)"
   ]
  },
  {
   "cell_type": "code",
   "execution_count": 18,
   "metadata": {},
   "outputs": [
    {
     "name": "stdout",
     "output_type": "stream",
     "text": [
      "{'B', 'A', 'C'}\n"
     ]
    }
   ],
   "source": [
    "# remove 移除元素\n",
    "aset.remove('D')\n",
    "print(aset)"
   ]
  },
  {
   "cell_type": "code",
   "execution_count": 19,
   "metadata": {},
   "outputs": [
    {
     "data": {
      "text/plain": [
       "'B'"
      ]
     },
     "execution_count": 19,
     "metadata": {},
     "output_type": "execute_result"
    }
   ],
   "source": [
    "# pop 随机取出一个元素\n",
    "p=aset.pop()\n",
    "p"
   ]
  },
  {
   "cell_type": "code",
   "execution_count": 23,
   "metadata": {},
   "outputs": [
    {
     "data": {
      "text/plain": [
       "set()"
      ]
     },
     "execution_count": 23,
     "metadata": {},
     "output_type": "execute_result"
    }
   ],
   "source": [
    "# 清空集合 clear\n",
    "aset.clear()\n",
    "aset"
   ]
  },
  {
   "cell_type": "code",
   "execution_count": 27,
   "metadata": {},
   "outputs": [
    {
     "name": "stdout",
     "output_type": "stream",
     "text": [
      "{1, 2, 3}\n",
      "{1, 2, 3}\n"
     ]
    }
   ],
   "source": [
    "# 取2个集合的差集 集合1有，但是集合2没有的元素 difference \n",
    "set1={1,2,3,4,5}\n",
    "set2={4,5,6,7,8}\n",
    "set3=set1-set2\n",
    "print(set3)\n",
    "\n",
    "set4=set1.difference(set2)\n",
    "print(set4)"
   ]
  },
  {
   "cell_type": "code",
   "execution_count": 38,
   "metadata": {},
   "outputs": [
    {
     "name": "stdout",
     "output_type": "stream",
     "text": [
      "{1, 2, 3}\n",
      "{4, 5, 6, 7, 8}\n"
     ]
    }
   ],
   "source": [
    "# 消除两个集合的差集 difference_updata\n",
    "set1={1,2,3,4,5}\n",
    "set2={4,5,6,7,8}\n",
    "set1.difference_update(set2)\n",
    "print(set1)\n",
    "print(set2)\n"
   ]
  },
  {
   "cell_type": "code",
   "execution_count": 41,
   "metadata": {},
   "outputs": [
    {
     "name": "stdout",
     "output_type": "stream",
     "text": [
      "{1, 2, 3, 4, 5, 6, 7, 8}\n",
      "{4, 5}\n"
     ]
    }
   ],
   "source": [
    "# 集合的交集与并集\n",
    "set1={1,2,3,4,5}\n",
    "set2={4,5,6,7,8}\n",
    "set3 = set1 | set2 # 两个集合的并集 相当于set1.union(set2)\n",
    "set4 = set1 & set2 # 两个集合的交集\n",
    "print(set3)\n",
    "print(set4)"
   ]
  },
  {
   "cell_type": "code",
   "execution_count": 43,
   "metadata": {},
   "outputs": [
    {
     "name": "stdout",
     "output_type": "stream",
     "text": [
      "1\n",
      "2\n",
      "3\n",
      "4\n",
      "5\n",
      "6\n",
      "7\n",
      "8\n"
     ]
    }
   ],
   "source": [
    "# 集合的遍历：\n",
    "# 不支持下标索引，不能使用while循环。\n",
    "# 可以用for 循环\n",
    "for element in set3:\n",
    "    print(element)"
   ]
  },
  {
   "cell_type": "markdown",
   "metadata": {},
   "source": [
    "## 5类数据容器的通用操作\n",
    "- min，max\n",
    "- 使用for循环进行遍历\n",
    "- sorted（容器）排序"
   ]
  },
  {
   "cell_type": "code",
   "execution_count": 44,
   "metadata": {},
   "outputs": [],
   "source": [
    "## 字符串的大小的比较：基于ASCII码表"
   ]
  },
  {
   "cell_type": "markdown",
   "metadata": {},
   "source": [
    "## 函数进阶"
   ]
  },
  {
   "cell_type": "markdown",
   "metadata": {},
   "source": [
    "### 函数的参数"
   ]
  },
  {
   "cell_type": "code",
   "execution_count": 50,
   "metadata": {},
   "outputs": [
    {
     "name": "stdout",
     "output_type": "stream",
     "text": [
      "John 20 M\n"
     ]
    }
   ],
   "source": [
    "# 位置参数\n",
    "def user_info(name,age,gender):\n",
    "    print(name,age,gender)\n",
    "user_info(\"John\",20,'M')"
   ]
  },
  {
   "cell_type": "code",
   "execution_count": 49,
   "metadata": {},
   "outputs": [
    {
     "name": "stdout",
     "output_type": "stream",
     "text": [
      "Amy 60 F\n",
      "Lily 9 F\n"
     ]
    }
   ],
   "source": [
    "# 关键字参数：函数调用时通过“键-值”形式传递参数\n",
    "user_info(age=60,name=\"Amy\",gender='F')\n",
    "#可以不按照固定顺序；并且可以与位置参数混用，但是位置参数必须在前。\n",
    "user_info(\"Lily\",age=9,gender='F')"
   ]
  },
  {
   "cell_type": "code",
   "execution_count": 51,
   "metadata": {},
   "outputs": [
    {
     "name": "stdout",
     "output_type": "stream",
     "text": [
      "David 30 M\n"
     ]
    }
   ],
   "source": [
    "# 缺省参数：默认参数，为参数提供默认值。所有位置参数必须在默认参数前。\n",
    "def user_infos(name,age,gender='M'):\n",
    "    print(name,age,gender)\n",
    "\n",
    "user_infos('David',30)"
   ]
  },
  {
   "cell_type": "code",
   "execution_count": null,
   "metadata": {},
   "outputs": [],
   "source": [
    "# 不定长参数：可变参数，不确定调用时会传递多少个参数的场景，0个也行。\n",
    "## 位置传递的不定长参数（* 一个星号）：return a turple\n",
    "def user_information(*args):\n",
    "    print(args)\n"
   ]
  },
  {
   "cell_type": "code",
   "execution_count": 53,
   "metadata": {},
   "outputs": [
    {
     "name": "stdout",
     "output_type": "stream",
     "text": [
      "('Helen', 18, 'female', 'Singapore')\n"
     ]
    }
   ],
   "source": [
    "user_information('Helen',18,'female','Singapore')"
   ]
  },
  {
   "cell_type": "code",
   "execution_count": null,
   "metadata": {},
   "outputs": [],
   "source": [
    "## 关键字传递的不定长参数（** 两个星号）：参数键-值的形式。\n",
    "def user_informations(**kwargs):\n",
    "    print(kwargs)"
   ]
  },
  {
   "cell_type": "code",
   "execution_count": 55,
   "metadata": {},
   "outputs": [
    {
     "name": "stdout",
     "output_type": "stream",
     "text": [
      "{'name': 'Joey', 'gender': 'unknown', 'age': 24}\n"
     ]
    }
   ],
   "source": [
    "user_informations(name='Joey',gender='unknown',age=24)"
   ]
  },
  {
   "cell_type": "markdown",
   "metadata": {},
   "source": [
    "## 匿名函数\n",
    "将函数作为参数进行传递，传入另外一个函数内。这是一种计算逻辑的传递，而不是数字的传递。"
   ]
  },
  {
   "cell_type": "code",
   "execution_count": 61,
   "metadata": {},
   "outputs": [
    {
     "name": "stdout",
     "output_type": "stream",
     "text": [
      "3\n",
      "2\n"
     ]
    }
   ],
   "source": [
    "def test_func(compute):\n",
    "    result=compute(1,2)\n",
    "    print(result)\n",
    "# 一般来说，普通的函数是数据不确定，将数据作为参数。\n",
    "# 这里的test_func是数据确定，但是计算逻辑compute不确定\n",
    "def adds(a,b):\n",
    "    return a+b\n",
    "\n",
    "def mul(a,b):\n",
    "    return(a*b)\n",
    "\n",
    "test_func(adds)\n",
    "test_func(mul)"
   ]
  },
  {
   "cell_type": "markdown",
   "metadata": {},
   "source": [
    "### Lambda匿名函数的语法\n",
    "通过lambda可以定义匿名函数（无名称），只能临时使用一次。  \n",
    "格式：lambda 传入参数：函数体（一行代码，只能写一行）"
   ]
  },
  {
   "cell_type": "code",
   "execution_count": 68,
   "metadata": {},
   "outputs": [
    {
     "name": "stdout",
     "output_type": "stream",
     "text": [
      "3\n"
     ]
    }
   ],
   "source": [
    "test_func(lambda x,y: x+y)"
   ]
  },
  {
   "cell_type": "markdown",
   "metadata": {},
   "source": [
    "## 文件操作"
   ]
  },
  {
   "cell_type": "code",
   "execution_count": 69,
   "metadata": {},
   "outputs": [],
   "source": [
    "# 文件编码\n",
    "# 计算机将内容翻译为二进制。"
   ]
  },
  {
   "cell_type": "code",
   "execution_count": 91,
   "metadata": {},
   "outputs": [],
   "source": [
    "# 文件读取和关闭\n",
    "filename='D:/Adocements/NTU/Learning/Readme.txt'\n",
    "f=open(filename,'r',encoding='UTF-8')"
   ]
  },
  {
   "cell_type": "code",
   "execution_count": 80,
   "metadata": {},
   "outputs": [
    {
     "data": {
      "text/plain": [
       "_io.TextIOWrapper"
      ]
     },
     "execution_count": 80,
     "metadata": {},
     "output_type": "execute_result"
    }
   ],
   "source": [
    "type(f) #TextIOWrapper"
   ]
  },
  {
   "cell_type": "code",
   "execution_count": 88,
   "metadata": {},
   "outputs": [
    {
     "data": {
      "text/plain": [
       "'Readme\\n\\nthis is the place of my learning notes.'"
      ]
     },
     "execution_count": 88,
     "metadata": {},
     "output_type": "execute_result"
    }
   ],
   "source": [
    "#read()方法,会读取全部内容。\n",
    "# 如果多次调用read，第二个会从上一个的位置开始读取\n",
    "f.read()"
   ]
  },
  {
   "cell_type": "code",
   "execution_count": 90,
   "metadata": {},
   "outputs": [
    {
     "data": {
      "text/plain": [
       "['Readme\\n',\n",
       " '\\n',\n",
       " 'this is the place of my learning notes.\\n',\n",
       " '\\n',\n",
       " 'Be happy!']"
      ]
     },
     "execution_count": 90,
     "metadata": {},
     "output_type": "execute_result"
    }
   ],
   "source": [
    "# readlines 读取全部行，返回一个list\n",
    "f.readlines()"
   ]
  },
  {
   "cell_type": "code",
   "execution_count": 92,
   "metadata": {},
   "outputs": [
    {
     "data": {
      "text/plain": [
       "'Readme\\n'"
      ]
     },
     "execution_count": 92,
     "metadata": {},
     "output_type": "execute_result"
    }
   ],
   "source": [
    "# readline 一次读取一行内容\n",
    "f.readline()"
   ]
  },
  {
   "cell_type": "code",
   "execution_count": 93,
   "metadata": {},
   "outputs": [],
   "source": [
    "# 文件关闭\n",
    "f.close()"
   ]
  },
  {
   "cell_type": "code",
   "execution_count": null,
   "metadata": {},
   "outputs": [
    {
     "name": "stdout",
     "output_type": "stream",
     "text": [
      "Readme\n",
      "\n",
      "\n",
      "\n",
      "this is the place of my learning notes.\n",
      "\n",
      "\n",
      "\n",
      "Be happy!\n"
     ]
    }
   ],
   "source": [
    "# with open 在with open的语句结束之后，文件会被自动关闭。\n",
    "with open(filename,'r',encoding='utf-8')as f:\n",
    "    for line in f:\n",
    "        print(line)\n"
   ]
  },
  {
   "cell_type": "code",
   "execution_count": 100,
   "metadata": {},
   "outputs": [],
   "source": [
    "f=open('text.txt','w',encoding='utf-8')\n",
    "# r 读；w 写；a 追加。\n",
    "# 如果文件不存在，w模式会自动创建文件。\n",
    "# 如果文件存在，会把文件内容清空，然后写入\n",
    "f.write('Hello World!') # 将内容写入内存中，尚未写入硬盘中。\n",
    "\n",
    "f.flush() # 将内存的内容写入硬盘中\n",
    "\n",
    "f.close()\n",
    "\n",
    "# 如果把open模式改成a，会追加写入的内容。"
   ]
  },
  {
   "cell_type": "markdown",
   "metadata": {},
   "source": [
    "# 异常"
   ]
  },
  {
   "cell_type": "code",
   "execution_count": 101,
   "metadata": {},
   "outputs": [
    {
     "data": {
      "text/plain": [
       "'\\ntry:\\n    可能发生错误的代码\\nexcept：\\n    如果出现异常执行的代码\\n'"
      ]
     },
     "execution_count": 101,
     "metadata": {},
     "output_type": "execute_result"
    }
   ],
   "source": [
    "# 捕获异常（异常处理）\n",
    "# 格式：\n",
    "'''\n",
    "try:\n",
    "    可能发生错误的代码\n",
    "except：\n",
    "    如果出现异常执行的代码\n",
    "'''"
   ]
  },
  {
   "cell_type": "code",
   "execution_count": 103,
   "metadata": {},
   "outputs": [
    {
     "ename": "FileNotFoundError",
     "evalue": "[Errno 2] No such file or directory: 't.txt'",
     "output_type": "error",
     "traceback": [
      "\u001b[1;31m---------------------------------------------------------------------------\u001b[0m",
      "\u001b[1;31mFileNotFoundError\u001b[0m                         Traceback (most recent call last)",
      "Cell \u001b[1;32mIn[103], line 1\u001b[0m\n\u001b[1;32m----> 1\u001b[0m f\u001b[38;5;241m=\u001b[39m\u001b[38;5;28;43mopen\u001b[39;49m\u001b[43m(\u001b[49m\u001b[38;5;124;43m'\u001b[39;49m\u001b[38;5;124;43mt.txt\u001b[39;49m\u001b[38;5;124;43m'\u001b[39;49m\u001b[43m,\u001b[49m\u001b[38;5;124;43m'\u001b[39;49m\u001b[38;5;124;43mr\u001b[39;49m\u001b[38;5;124;43m'\u001b[39;49m\u001b[43m,\u001b[49m\u001b[43mencoding\u001b[49m\u001b[38;5;241;43m=\u001b[39;49m\u001b[38;5;124;43m'\u001b[39;49m\u001b[38;5;124;43mutf-8\u001b[39;49m\u001b[38;5;124;43m'\u001b[39;49m\u001b[43m)\u001b[49m\n",
      "File \u001b[1;32mc:\\Users\\huangkun\\miniconda3\\envs\\douxing\\Lib\\site-packages\\IPython\\core\\interactiveshell.py:324\u001b[0m, in \u001b[0;36m_modified_open\u001b[1;34m(file, *args, **kwargs)\u001b[0m\n\u001b[0;32m    317\u001b[0m \u001b[38;5;28;01mif\u001b[39;00m file \u001b[38;5;129;01min\u001b[39;00m {\u001b[38;5;241m0\u001b[39m, \u001b[38;5;241m1\u001b[39m, \u001b[38;5;241m2\u001b[39m}:\n\u001b[0;32m    318\u001b[0m     \u001b[38;5;28;01mraise\u001b[39;00m \u001b[38;5;167;01mValueError\u001b[39;00m(\n\u001b[0;32m    319\u001b[0m         \u001b[38;5;124mf\u001b[39m\u001b[38;5;124m\"\u001b[39m\u001b[38;5;124mIPython won\u001b[39m\u001b[38;5;124m'\u001b[39m\u001b[38;5;124mt let you open fd=\u001b[39m\u001b[38;5;132;01m{\u001b[39;00mfile\u001b[38;5;132;01m}\u001b[39;00m\u001b[38;5;124m by default \u001b[39m\u001b[38;5;124m\"\u001b[39m\n\u001b[0;32m    320\u001b[0m         \u001b[38;5;124m\"\u001b[39m\u001b[38;5;124mas it is likely to crash IPython. If you know what you are doing, \u001b[39m\u001b[38;5;124m\"\u001b[39m\n\u001b[0;32m    321\u001b[0m         \u001b[38;5;124m\"\u001b[39m\u001b[38;5;124myou can use builtins\u001b[39m\u001b[38;5;124m'\u001b[39m\u001b[38;5;124m open.\u001b[39m\u001b[38;5;124m\"\u001b[39m\n\u001b[0;32m    322\u001b[0m     )\n\u001b[1;32m--> 324\u001b[0m \u001b[38;5;28;01mreturn\u001b[39;00m \u001b[43mio_open\u001b[49m\u001b[43m(\u001b[49m\u001b[43mfile\u001b[49m\u001b[43m,\u001b[49m\u001b[43m \u001b[49m\u001b[38;5;241;43m*\u001b[39;49m\u001b[43margs\u001b[49m\u001b[43m,\u001b[49m\u001b[43m \u001b[49m\u001b[38;5;241;43m*\u001b[39;49m\u001b[38;5;241;43m*\u001b[39;49m\u001b[43mkwargs\u001b[49m\u001b[43m)\u001b[49m\n",
      "\u001b[1;31mFileNotFoundError\u001b[0m: [Errno 2] No such file or directory: 't.txt'"
     ]
    }
   ],
   "source": [
    "f=open('t.txt','r',encoding='utf-8')"
   ]
  },
  {
   "cell_type": "code",
   "execution_count": null,
   "metadata": {},
   "outputs": [
    {
     "name": "stdout",
     "output_type": "stream",
     "text": [
      "error\n"
     ]
    }
   ],
   "source": [
    "try:\n",
    "    f=open('t.txt','r',encoding='utf-8')\n",
    "except:#无论任何类型的异常，都进行捕获。\n",
    "    print('error')"
   ]
  },
  {
   "cell_type": "code",
   "execution_count": null,
   "metadata": {},
   "outputs": [
    {
     "name": "stdout",
     "output_type": "stream",
     "text": [
      "error\n"
     ]
    }
   ],
   "source": [
    "#捕获特定类型的异常\n",
    "try:\n",
    "    print(name)\n",
    "except NameError:\n",
    "    print('error')"
   ]
  },
  {
   "cell_type": "code",
   "execution_count": 106,
   "metadata": {},
   "outputs": [
    {
     "name": "stdout",
     "output_type": "stream",
     "text": [
      "error\n"
     ]
    }
   ],
   "source": [
    "#捕获多个异常\n",
    "try:\n",
    "    print(name)\n",
    "except (NameError,FileNotFoundError):\n",
    "    print('error')"
   ]
  },
  {
   "cell_type": "code",
   "execution_count": 107,
   "metadata": {},
   "outputs": [
    {
     "name": "stdout",
     "output_type": "stream",
     "text": [
      "file is opened\n"
     ]
    }
   ],
   "source": [
    "try:\n",
    "    f=open('text.txt','r')\n",
    "except (NameError,FileNotFoundError):#有异常的处理\n",
    "    print('error')\n",
    "else:#没有异常的处理\n",
    "    print('file is opened')\n",
    "finally:#无论是否存在异常，都执行\n",
    "    f.close()\n"
   ]
  },
  {
   "cell_type": "code",
   "execution_count": 109,
   "metadata": {},
   "outputs": [],
   "source": [
    "# 异常具有传递性。如果程序嵌套，会向上传递。"
   ]
  },
  {
   "cell_type": "markdown",
   "metadata": {},
   "source": [
    "## Python 模块\n",
    "- 模块（Module）,是一个以py结尾的python文件。\n",
    "- 模块可以定义函数、类和变量，可以拿来使用。"
   ]
  },
  {
   "cell_type": "code",
   "execution_count": 110,
   "metadata": {},
   "outputs": [],
   "source": [
    "# 模块的导入方式\n",
    "# 语法： from 模块名 import 模块/类/函数 as alias"
   ]
  },
  {
   "cell_type": "code",
   "execution_count": null,
   "metadata": {},
   "outputs": [
    {
     "name": "stdout",
     "output_type": "stream",
     "text": [
      "start\n",
      "end\n"
     ]
    }
   ],
   "source": [
    "import time # 在模块上按住ctrl，可以看见模块的py源文件\n",
    "print('start')\n",
    "time.sleep(10)\n",
    "print('end')"
   ]
  },
  {
   "cell_type": "markdown",
   "metadata": {},
   "source": [
    "### 自定义模块"
   ]
  },
  {
   "cell_type": "code",
   "execution_count": 2,
   "metadata": {},
   "outputs": [
    {
     "data": {
      "text/plain": [
       "5"
      ]
     },
     "execution_count": 2,
     "metadata": {},
     "output_type": "execute_result"
    }
   ],
   "source": [
    "# py文件的名字就是模块名，可以从模块中导入函数进行使用。\n",
    "# 如果调用了同名功能，后面会覆盖前面的。\n",
    "from my_module import test \n",
    "test(1,4)"
   ]
  },
  {
   "cell_type": "code",
   "execution_count": null,
   "metadata": {},
   "outputs": [],
   "source": [
    "# __main__ 变量:不影响当前py文件作为模块进行导入，同时可以在本文件进行测试。\n",
    "if __name__ == '__main__':\n",
    "    test(4,5)"
   ]
  },
  {
   "cell_type": "code",
   "execution_count": null,
   "metadata": {},
   "outputs": [],
   "source": [
    "# __all__变量：等于import * 的内容\n",
    "__all__=['testA'] \n",
    "#此时如果在其他文件import * 只会导入list中的内容\n"
   ]
  },
  {
   "cell_type": "markdown",
   "metadata": {},
   "source": [
    "### 包"
   ]
  },
  {
   "cell_type": "code",
   "execution_count": 4,
   "metadata": {},
   "outputs": [],
   "source": [
    "# 如果python模块太多，可能造成混乱。\n",
    "# 通过python包的功能进行管理。\n",
    "# python包是一个文件夹，包含很多python模块和 __init__.py文件。\n",
    "## __init__.py文件是空的"
   ]
  },
  {
   "cell_type": "code",
   "execution_count": 6,
   "metadata": {},
   "outputs": [
    {
     "name": "stdout",
     "output_type": "stream",
     "text": [
      "info1\n",
      "info2\n"
     ]
    }
   ],
   "source": [
    "import package.module1\n",
    "import package.module2\n",
    "# 或者\n",
    "\n",
    "from package.module1 import info_print1\n",
    "from package.module2 import info_print2\n",
    "\n",
    "info_print1()\n",
    "info_print2()\n",
    "\n"
   ]
  },
  {
   "cell_type": "code",
   "execution_count": null,
   "metadata": {},
   "outputs": [],
   "source": []
  }
 ],
 "metadata": {
  "kernelspec": {
   "display_name": "douxing",
   "language": "python",
   "name": "python3"
  },
  "language_info": {
   "codemirror_mode": {
    "name": "ipython",
    "version": 3
   },
   "file_extension": ".py",
   "mimetype": "text/x-python",
   "name": "python",
   "nbconvert_exporter": "python",
   "pygments_lexer": "ipython3",
   "version": "3.11.10"
  }
 },
 "nbformat": 4,
 "nbformat_minor": 2
}

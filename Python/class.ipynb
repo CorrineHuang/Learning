{
 "cells": [
  {
   "cell_type": "markdown",
   "metadata": {},
   "source": [
    "# 类 Class"
   ]
  },
  {
   "cell_type": "code",
   "execution_count": 6,
   "metadata": {},
   "outputs": [],
   "source": [
    "# 1, 设计一个类 【设计一张表格模板】\n",
    "# 类包含属性（成员变量），和行为（成员方法，函数）称作方法。\n",
    "class student:\n",
    "    name = None\n",
    "    gender = None\n",
    "    nationality = None\n",
    "    native_place = None \n",
    "    age = None\n",
    "# 在类中定义成员方法，与定义函数基本已知，但是存在差别。\n",
    "# self关键字，在定义成员方法时，必须填写。\n",
    "## 用于表达类对象自身的意思。\n",
    "## 当使用类对象调用方法时，self会自动被传入。\n",
    "## 在方法内部，想要访问类的成员变量，必须使用self.\n",
    "\n",
    "    def say_hi(self):\n",
    "        print(f\"hi大家好，我是{self.name}\")\n",
    "    \n",
    "    def say_hi2(self,msg):\n",
    "        print(f\"大家好，我是{msg}\")\n",
    "    \n",
    "    # 必须在参数列表出现，但是传入参数时，可以当它不存在。"
   ]
  },
  {
   "cell_type": "code",
   "execution_count": null,
   "metadata": {},
   "outputs": [],
   "source": [
    "# 2, 创建一个对象 【打印出一个表格】\n",
    "s1=student()\n"
   ]
  },
  {
   "cell_type": "code",
   "execution_count": null,
   "metadata": {},
   "outputs": [],
   "source": [
    "# 3, 对对象进行赋值 【填写表格内容】\n",
    "s1.name= 'Lily'\n",
    "s1.gender='female'\n",
    "s1.age=18\n",
    "s1.nationality='china'\n",
    "s1.native_place='GuangZhou'\n"
   ]
  },
  {
   "cell_type": "code",
   "execution_count": 5,
   "metadata": {},
   "outputs": [
    {
     "name": "stdout",
     "output_type": "stream",
     "text": [
      "<__main__.student object at 0x0000022CED36F1D0>\n",
      "Lily\n"
     ]
    }
   ],
   "source": [
    "print(s1)\n",
    "print(s1.name)"
   ]
  },
  {
   "cell_type": "code",
   "execution_count": 14,
   "metadata": {},
   "outputs": [],
   "source": [
    "# class 创建实例\n",
    "class colleges:\n",
    "    name = None \n",
    "\n",
    "    def say_hi(self):\n",
    "        print(f'Hello everyone, I am {self.name}.')\n",
    "    def say_hi1(self,msg):\n",
    "        print(f'Hello everyone, I am {self.name}. {msg}')\n",
    "    "
   ]
  },
  {
   "cell_type": "code",
   "execution_count": 15,
   "metadata": {},
   "outputs": [],
   "source": [
    "c1=colleges()\n",
    "c1.name='David'"
   ]
  },
  {
   "cell_type": "code",
   "execution_count": 16,
   "metadata": {},
   "outputs": [
    {
     "name": "stdout",
     "output_type": "stream",
     "text": [
      "Hello everyone, I am David.\n",
      "Hello everyone, I am David. Nice to meet you!\n"
     ]
    }
   ],
   "source": [
    "# 对象可以通过.使用成员变量和成员方法。\n",
    "c1.say_hi()\n",
    "c1.say_hi1('Nice to meet you!')"
   ]
  },
  {
   "cell_type": "markdown",
   "metadata": {},
   "source": [
    "## 理解对象，面向对象"
   ]
  },
  {
   "cell_type": "code",
   "execution_count": 18,
   "metadata": {},
   "outputs": [],
   "source": [
    "# 使用程序中的类可以描述现实世界。现实事物包含事和物。\n",
    "## 事情：包含属性和行为。例如打扫卫生，属性是何时何地何人，行为是扫地拖地擦桌子。\n",
    "## 物体：包含属性和行为。例如手机，属性是型号厂商，行为是打电话上网和拍照。"
   ]
  },
  {
   "cell_type": "markdown",
   "metadata": {},
   "source": [
    "### 类与对象的关系\n",
    "类是一种程序内的设计图纸，需要基于图纸生产实体（对象），使用对象进行编程，利用对象来完成具体工作，这个过程叫做“面向对象编程”。"
   ]
  },
  {
   "cell_type": "code",
   "execution_count": 21,
   "metadata": {},
   "outputs": [],
   "source": [
    "import winsound\n",
    "class clock:\n",
    "    name = None\n",
    "    price = None \n",
    "\n",
    "    def ring(self):\n",
    "        winsound.Beep(2000,3000)"
   ]
  },
  {
   "cell_type": "code",
   "execution_count": 22,
   "metadata": {},
   "outputs": [],
   "source": [
    "clock1=clock()\n",
    "clock1.name = '00302'\n",
    "clock1.price = '20'\n",
    "clock1.ring()"
   ]
  },
  {
   "cell_type": "markdown",
   "metadata": {},
   "source": [
    "## 构造方法\n",
    "__init__（）方法，称为构造方法。\n",
    "- 在构建类对象的时候，会自动执行。\n",
    "- 在创建类对象的时候，将传入参数自动传递给__init__方法使用。"
   ]
  },
  {
   "cell_type": "code",
   "execution_count": 23,
   "metadata": {},
   "outputs": [],
   "source": [
    "class friends:\n",
    "    name = None \n",
    "    age = None \n",
    "    tel = None \n",
    "\n",
    "    def __init__(self,name,age,tel):\n",
    "        self.name = name\n",
    "        self.age = age\n",
    "        self.tel = tel\n"
   ]
  },
  {
   "cell_type": "code",
   "execution_count": null,
   "metadata": {},
   "outputs": [
    {
     "name": "stdout",
     "output_type": "stream",
     "text": [
      "Lime\n"
     ]
    }
   ],
   "source": [
    "f1=friends('Lime',16,'83355424')\n",
    "# 在构造对象时，同时进行了变量赋值。\n",
    "print(f1.name)"
   ]
  },
  {
   "cell_type": "markdown",
   "metadata": {},
   "source": [
    "## 其他内置方法（魔术方法）"
   ]
  },
  {
   "cell_type": "code",
   "execution_count": 40,
   "metadata": {},
   "outputs": [
    {
     "name": "stdout",
     "output_type": "stream",
     "text": [
      "FriendJames, age 40, tel 658420583\n",
      "True\n"
     ]
    }
   ],
   "source": [
    "# __str__字符串方法\n",
    "# 控制类转换为字符串的行为。直接print不会返回内存地址，而是受到str控制。\n",
    "\n",
    "class friends:\n",
    "    name = None \n",
    "    age = None \n",
    "    tel = None \n",
    "\n",
    "    def __init__(self,name,age,tel):\n",
    "        self.name = name\n",
    "        self.age = age\n",
    "        self.tel = tel\n",
    "\n",
    "    def __str__(self):\n",
    "        return f'Friend{self.name}, age {self.age}, tel {self.tel}'\n",
    "    \n",
    "    # other是另一个类对象，返回true或者false\n",
    "    def __lt__(self,other):\n",
    "        return self.age < other.age\n",
    "    \n",
    "    # 小于等于 或者 大于等于\n",
    "    def __le__(self,other):\n",
    "        return self.age <= other.age\n",
    "\n",
    "friend1=friends('James',40,'658420583')\n",
    "friend2=friends('John',30,'595830285')\n",
    "\n",
    "print(friend1) #__str__ 方法的作用\n",
    "print(friend1>friend2) # __lt__ 方法的作用\n",
    "\n"
   ]
  },
  {
   "cell_type": "markdown",
   "metadata": {},
   "source": [
    "## 封装\n",
    "- 私有成员变量、私有成员方法，名称以__开头\n",
    "- 对用户隐藏的属性和行为，例如苹果越狱、安卓root\n",
    "- 但是私有成员变量和方法，可以被类内部的成员和变量使用。"
   ]
  },
  {
   "cell_type": "markdown",
   "metadata": {},
   "source": [
    "## 继承\n",
    "class phone2022(phone):\n",
    "将父类，写在子类的括号中。\n"
   ]
  },
  {
   "cell_type": "code",
   "execution_count": 43,
   "metadata": {},
   "outputs": [
    {
     "name": "stdout",
     "output_type": "stream",
     "text": [
      "5G\n"
     ]
    }
   ],
   "source": [
    "# 单继承\n",
    "\n",
    "class phone:\n",
    "    Imei = None\n",
    "    producer = 'HM'\n",
    "\n",
    "    def call_by_4g(self):\n",
    "        print('4G')\n",
    "\n",
    "\n",
    "class phone_new(phone):\n",
    "    face_id = '1001'\n",
    "\n",
    "    def call_by_5g(self):\n",
    "        print('5G')\n",
    "\n",
    "p1 = phone_new()\n",
    "\n",
    "p1.call_by_5g()"
   ]
  },
  {
   "cell_type": "code",
   "execution_count": null,
   "metadata": {},
   "outputs": [],
   "source": [
    "# 多继承\n",
    "# class（父类1，父类2，···）"
   ]
  }
 ],
 "metadata": {
  "kernelspec": {
   "display_name": "douxing",
   "language": "python",
   "name": "python3"
  },
  "language_info": {
   "codemirror_mode": {
    "name": "ipython",
    "version": 3
   },
   "file_extension": ".py",
   "mimetype": "text/x-python",
   "name": "python",
   "nbconvert_exporter": "python",
   "pygments_lexer": "ipython3",
   "version": "3.11.10"
  }
 },
 "nbformat": 4,
 "nbformat_minor": 2
}
